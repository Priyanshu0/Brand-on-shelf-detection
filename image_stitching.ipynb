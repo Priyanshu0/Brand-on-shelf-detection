{
 "cells": [
  {
   "cell_type": "code",
   "execution_count": 2,
   "metadata": {},
   "outputs": [],
   "source": [
    "import cv2"
   ]
  },
  {
   "cell_type": "code",
   "execution_count": 3,
   "metadata": {},
   "outputs": [],
   "source": [
    "image1 = cv2.imread('/Users/priyanshutuli/Desktop/Planogram_Optimization/inference_images/0F488364-219C-4A21-94B2-0B6A884420DD_IMG_0041.jpeg', cv2.IMREAD_GRAYSCALE)\n",
    "image2 = cv2.imread('/Users/priyanshutuli/Desktop/Planogram_Optimization/inference_images/1AE868B4-02F6-4F6D-B09C-3B65042035D7_IMG_3525.jpeg', cv2.IMREAD_GRAYSCALE)"
   ]
  },
  {
   "cell_type": "code",
   "execution_count": 4,
   "metadata": {},
   "outputs": [],
   "source": [
    "# Initialize the feature detector and extractor (e.g., SIFT)\n",
    "sift = cv2.SIFT_create()\n",
    "\n",
    "# Detect keypoints and compute descriptors for both images\n",
    "keypoints1, descriptors1 = sift.detectAndCompute(image1, None)\n",
    "keypoints2, descriptors2 = sift.detectAndCompute(image2, None)"
   ]
  },
  {
   "cell_type": "code",
   "execution_count": 5,
   "metadata": {},
   "outputs": [],
   "source": [
    "# Initialize the feature matcher using brute-force matching\n",
    "bf = cv2.BFMatcher(cv2.NORM_L2, crossCheck=True)\n",
    "\n",
    "# Match the descriptors using brute-force matching\n",
    "matches_bf = bf.match(descriptors1, descriptors2)"
   ]
  },
  {
   "cell_type": "code",
   "execution_count": 6,
   "metadata": {},
   "outputs": [],
   "source": [
    "# Sort the matches by distance (lower is better)\n",
    "matches_bf = sorted(matches_bf, key=lambda x: x.distance)"
   ]
  },
  {
   "cell_type": "code",
   "execution_count": 7,
   "metadata": {},
   "outputs": [],
   "source": [
    "# Draw the top N matches\n",
    "num_matches = 50\n",
    "image_matches_bf = cv2.drawMatches(image1, keypoints1, image2, keypoints2, matches_bf[:num_matches], None)\n",
    "\n",
    "# Initialize the feature matcher using FLANN matching\n",
    "index_params = dict(algorithm=0, trees=5)\n",
    "search_params = dict(checks=50)\n",
    "flann = cv2.FlannBasedMatcher(index_params, search_params)"
   ]
  },
  {
   "cell_type": "code",
   "execution_count": 8,
   "metadata": {},
   "outputs": [],
   "source": [
    "# Match the descriptors using FLANN matching\n",
    "matches_flann = flann.match(descriptors1, descriptors2)\n",
    "\n",
    "# Sort the matches by distance (lower is better)\n",
    "matches_flann = sorted(matches_flann, key=lambda x: x.distance)\n",
    "\n",
    "# Draw the top N matches\n",
    "image_matches_flann = cv2.drawMatches(image1, keypoints1, image2, keypoints2, matches_flann[:num_matches], None)"
   ]
  },
  {
   "cell_type": "code",
   "execution_count": null,
   "metadata": {},
   "outputs": [],
   "source": []
  }
 ],
 "metadata": {
  "kernelspec": {
   "display_name": ".venv",
   "language": "python",
   "name": "python3"
  },
  "language_info": {
   "codemirror_mode": {
    "name": "ipython",
    "version": 3
   },
   "file_extension": ".py",
   "mimetype": "text/x-python",
   "name": "python",
   "nbconvert_exporter": "python",
   "pygments_lexer": "ipython3",
   "version": "3.10.11"
  }
 },
 "nbformat": 4,
 "nbformat_minor": 2
}
